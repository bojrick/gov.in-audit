{
 "cells": [
  {
   "cell_type": "code",
   "execution_count": 9,
   "metadata": {},
   "outputs": [
    {
     "name": "stdout",
     "output_type": "stream",
     "text": [
      "Index(['sector', 'organization_link', 'result_count', 'link', 'text'], dtype='object')\n"
     ]
    }
   ],
   "source": [
    "import pandas as pd\n",
    "df = pd.read_csv('data.csv')\n",
    "print(df.columns)"
   ]
  },
  {
   "cell_type": "code",
   "execution_count": 10,
   "metadata": {},
   "outputs": [
    {
     "name": "stdout",
     "output_type": "stream",
     "text": [
      "0                         https://nhb.org.in\n",
      "1                      https://notary.gov.in\n",
      "2                       https://www.gicre.in\n",
      "3                   https://odishatax.gov.in\n",
      "4       https://igod.gov.in/website_policies\n",
      "                        ...                 \n",
      "7088            https://rioneshillong.gov.in\n",
      "7089                 https://beeindia.gov.in\n",
      "7090          https://swachhatahiseva.gov.in\n",
      "7091                                       #\n",
      "7092            https://igod.gov.in/feedback\n",
      "Name: link, Length: 7093, dtype: object\n"
     ]
    }
   ],
   "source": [
    "import pandas as pd\n",
    "df = pd.read_csv('data.csv')\n",
    "links = df['link'] \n",
    "print(links)\n"
   ]
  },
  {
   "cell_type": "code",
   "execution_count": 13,
   "metadata": {},
   "outputs": [
    {
     "name": "stdout",
     "output_type": "stream",
     "text": [
      "                                      link  has_robots_txt\n",
      "0                       https://nhb.org.in           False\n",
      "1                    https://notary.gov.in           False\n",
      "2                     https://www.gicre.in            True\n",
      "3                 https://odishatax.gov.in           False\n",
      "4     https://igod.gov.in/website_policies           False\n",
      "...                                    ...             ...\n",
      "7088          https://rioneshillong.gov.in           False\n",
      "7089               https://beeindia.gov.in           False\n",
      "7090        https://swachhatahiseva.gov.in            True\n",
      "7091                                     #           False\n",
      "7092          https://igod.gov.in/feedback           False\n",
      "\n",
      "[7093 rows x 2 columns]\n"
     ]
    }
   ],
   "source": [
    "import pandas as pd\n",
    "import requests\n",
    "\n",
    "df = pd.read_csv('data.csv')\n",
    "\n",
    "def has_robots_txt(url):\n",
    "    try:\n",
    "        robots_url = url.rstrip('/') + '/robots.txt'\n",
    "        response = requests.get(robots_url, timeout=5)\n",
    "        return response.status_code == 200\n",
    "    except requests.RequestException:\n",
    "        return False\n",
    "\n",
    "df['has_robots_txt'] = df['link'].apply(has_robots_txt)\n",
    "print(df[['link', 'has_robots_txt']])\n"
   ]
  },
  {
   "cell_type": "code",
   "execution_count": 14,
   "metadata": {},
   "outputs": [
    {
     "name": "stdout",
     "output_type": "stream",
     "text": [
      "                                      link  has_robots_txt\n",
      "0                       https://nhb.org.in           False\n",
      "1                    https://notary.gov.in           False\n",
      "2                     https://www.gicre.in            True\n",
      "3                 https://odishatax.gov.in           False\n",
      "4     https://igod.gov.in/website_policies           False\n",
      "...                                    ...             ...\n",
      "7088          https://rioneshillong.gov.in           False\n",
      "7089               https://beeindia.gov.in           False\n",
      "7090        https://swachhatahiseva.gov.in            True\n",
      "7091                                     #           False\n",
      "7092          https://igod.gov.in/feedback           False\n",
      "\n",
      "[7093 rows x 2 columns]\n"
     ]
    }
   ],
   "source": [
    "df.to_csv('updated_data.csv', index=False)\n",
    "\n",
    "# Print the relevant columns\n",
    "print(df[['link', 'has_robots_txt']])"
   ]
  }
 ],
 "metadata": {
  "kernelspec": {
   "display_name": "Python 3",
   "language": "python",
   "name": "python3"
  },
  "language_info": {
   "codemirror_mode": {
    "name": "ipython",
    "version": 3
   },
   "file_extension": ".py",
   "mimetype": "text/x-python",
   "name": "python",
   "nbconvert_exporter": "python",
   "pygments_lexer": "ipython3",
   "version": "3.11.2"
  }
 },
 "nbformat": 4,
 "nbformat_minor": 2
}
